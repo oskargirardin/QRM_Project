{
 "cells": [
  {
   "attachments": {},
   "cell_type": "markdown",
   "metadata": {},
   "source": [
    "# Estimating Extreme Risks and Dependence of Stock Indices\n",
    "#### Research Project for the Course Quantitative Risk Management\n",
    "Authors: **Nicolo Giacopelli & Oskar Girardin**"
   ]
  },
  {
   "attachments": {},
   "cell_type": "markdown",
   "metadata": {},
   "source": [
    "## I – Empirical/descriptive analysis"
   ]
  },
  {
   "cell_type": "code",
   "execution_count": 96,
   "metadata": {},
   "outputs": [],
   "source": [
    "# Import libraries\n",
    "import yfinance as yf\n",
    "import pandas as pd\n",
    "import datetime\n",
    "import numpy as np\n",
    "from scipy import stats\n",
    "import math\n",
    "import matplotlib.pyplot as plt\n",
    "from matplotlib import cm\n",
    "import seaborn as sns\n",
    "import yahooquery as yq\n",
    "from scipy.stats import norm, kurtosis, skew\n",
    "\n",
    "# Define colors of graphs\n",
    "DARK_COL = \"#6876a4\"\n",
    "LIGHT_COL = \"#f0b64d\"\n",
    "sns.set_style(\"whitegrid\")\n",
    "\n",
    "# Function to get tickers of S&P 500\n",
    "tickers_indeces = [\"^GSPC\", \"^GDAXI\", \"^FTSE\"]"
   ]
  },
  {
   "cell_type": "code",
   "execution_count": 21,
   "metadata": {},
   "outputs": [
    {
     "name": "stdout",
     "output_type": "stream",
     "text": [
      "[*********************100%***********************]  3 of 3 completed\n"
     ]
    },
    {
     "data": {
      "text/html": [
       "<div>\n",
       "<style scoped>\n",
       "    .dataframe tbody tr th:only-of-type {\n",
       "        vertical-align: middle;\n",
       "    }\n",
       "\n",
       "    .dataframe tbody tr th {\n",
       "        vertical-align: top;\n",
       "    }\n",
       "\n",
       "    .dataframe thead th {\n",
       "        text-align: right;\n",
       "    }\n",
       "</style>\n",
       "<table border=\"1\" class=\"dataframe\">\n",
       "  <thead>\n",
       "    <tr style=\"text-align: right;\">\n",
       "      <th></th>\n",
       "      <th>FTSE</th>\n",
       "      <th>DAX</th>\n",
       "      <th>SP500</th>\n",
       "    </tr>\n",
       "    <tr>\n",
       "      <th>Date</th>\n",
       "      <th></th>\n",
       "      <th></th>\n",
       "      <th></th>\n",
       "    </tr>\n",
       "  </thead>\n",
       "  <tbody>\n",
       "    <tr>\n",
       "      <th>1987-01-02</th>\n",
       "      <td>1681.099976</td>\n",
       "      <td>NaN</td>\n",
       "      <td>246.449997</td>\n",
       "    </tr>\n",
       "    <tr>\n",
       "      <th>1987-01-05</th>\n",
       "      <td>1680.000000</td>\n",
       "      <td>NaN</td>\n",
       "      <td>252.190002</td>\n",
       "    </tr>\n",
       "    <tr>\n",
       "      <th>1987-01-06</th>\n",
       "      <td>1690.699951</td>\n",
       "      <td>NaN</td>\n",
       "      <td>252.779999</td>\n",
       "    </tr>\n",
       "    <tr>\n",
       "      <th>1987-01-07</th>\n",
       "      <td>1722.199951</td>\n",
       "      <td>NaN</td>\n",
       "      <td>255.330002</td>\n",
       "    </tr>\n",
       "    <tr>\n",
       "      <th>1987-01-08</th>\n",
       "      <td>1733.099976</td>\n",
       "      <td>NaN</td>\n",
       "      <td>257.279999</td>\n",
       "    </tr>\n",
       "    <tr>\n",
       "      <th>...</th>\n",
       "      <td>...</td>\n",
       "      <td>...</td>\n",
       "      <td>...</td>\n",
       "    </tr>\n",
       "    <tr>\n",
       "      <th>2022-12-23</th>\n",
       "      <td>7473.000000</td>\n",
       "      <td>13940.929688</td>\n",
       "      <td>3844.820068</td>\n",
       "    </tr>\n",
       "    <tr>\n",
       "      <th>2022-12-27</th>\n",
       "      <td>NaN</td>\n",
       "      <td>13995.099609</td>\n",
       "      <td>3829.250000</td>\n",
       "    </tr>\n",
       "    <tr>\n",
       "      <th>2022-12-28</th>\n",
       "      <td>7497.200195</td>\n",
       "      <td>13925.599609</td>\n",
       "      <td>3783.219971</td>\n",
       "    </tr>\n",
       "    <tr>\n",
       "      <th>2022-12-29</th>\n",
       "      <td>7512.700195</td>\n",
       "      <td>14071.719727</td>\n",
       "      <td>3849.280029</td>\n",
       "    </tr>\n",
       "    <tr>\n",
       "      <th>2022-12-30</th>\n",
       "      <td>7451.700195</td>\n",
       "      <td>13923.589844</td>\n",
       "      <td>3839.500000</td>\n",
       "    </tr>\n",
       "  </tbody>\n",
       "</table>\n",
       "<p>9294 rows × 3 columns</p>\n",
       "</div>"
      ],
      "text/plain": [
       "                   FTSE           DAX        SP500\n",
       "Date                                              \n",
       "1987-01-02  1681.099976           NaN   246.449997\n",
       "1987-01-05  1680.000000           NaN   252.190002\n",
       "1987-01-06  1690.699951           NaN   252.779999\n",
       "1987-01-07  1722.199951           NaN   255.330002\n",
       "1987-01-08  1733.099976           NaN   257.279999\n",
       "...                 ...           ...          ...\n",
       "2022-12-23  7473.000000  13940.929688  3844.820068\n",
       "2022-12-27          NaN  13995.099609  3829.250000\n",
       "2022-12-28  7497.200195  13925.599609  3783.219971\n",
       "2022-12-29  7512.700195  14071.719727  3849.280029\n",
       "2022-12-30  7451.700195  13923.589844  3839.500000\n",
       "\n",
       "[9294 rows x 3 columns]"
      ]
     },
     "execution_count": 21,
     "metadata": {},
     "output_type": "execute_result"
    }
   ],
   "source": [
    "# Download data from 1987 to end of 2022\n",
    "start = datetime.datetime(1987, 1, 1)\n",
    "end = datetime.datetime(2022, 12, 31)\n",
    "data = yf.download(tickers_indeces, start = start, end = end)\n",
    "prices = data[\"Adj Close\"]\n",
    "\n",
    "# Rename columns\n",
    "prices = prices.rename({\"^GSPC\": \"SP500\", \"^GDAXI\": \"DAX\", \"^FTSE\": \"FTSE\"}, axis = 1)\n",
    "\n",
    "prices"
   ]
  },
  {
   "attachments": {},
   "cell_type": "markdown",
   "metadata": {},
   "source": [
    "### 1. Show the plot of the daily prices, $p_i$ of the S&P 500, then describe what you see"
   ]
  },
  {
   "cell_type": "code",
   "execution_count": 34,
   "metadata": {},
   "outputs": [],
   "source": [
    "def plot_time_series(df, col_name, ylab = 'Price (in US $)', title = None, xlab = \"Date\"):\n",
    "    # Create the plot\n",
    "    fig, ax = plt.subplots(figsize=(8, 6))\n",
    "    ax.plot(df.index, df[col_name], color = DARK_COL)\n",
    "\n",
    "    # Set the axis labels and title\n",
    "    ax.set_xlabel(xlab)\n",
    "    ax.set_ylabel(ylab)\n",
    "    ax.set_title(title)\n",
    "\n",
    "    # Show the plot\n",
    "    plt.show()"
   ]
  },
  {
   "cell_type": "code",
   "execution_count": 36,
   "metadata": {},
   "outputs": [
    {
     "data": {
      "image/png": "[encoded data removed]",
      "text/plain": [
       "<Figure size 800x600 with 1 Axes>"
      ]
     },
     "metadata": {},
     "output_type": "display_data"
    }
   ],
   "source": [
    "plot_time_series(prices, \"SP500\", title=\"Evolution of the S&P 500\")"
   ]
  },
  {
   "attachments": {},
   "cell_type": "markdown",
   "metadata": {},
   "source": [
    "### 2. Transform your three data sets to consider now the daily log return: $$x_i = \\log p_i - \\log p_{i-1}$$ and give a plot of this new data set (x_i, i = 1,...,n) for the S&P 500. What do you notice? Why did we perform this transformation? We consider the obtained returns as realization of three random variables (rv)’s: $U$ the rv for the S&P 500 returns, $V$ the rv for the FTSE returns, and $W$ the rv for the DAX."
   ]
  },
  {
   "cell_type": "code",
   "execution_count": 31,
   "metadata": {},
   "outputs": [],
   "source": [
    "def to_log_returns(prices: pd.Series):\n",
    "    log_prices = np.log(prices)\n",
    "    prices_diff = log_prices.diff()\n",
    "    return prices_diff"
   ]
  },
  {
   "cell_type": "code",
   "execution_count": 32,
   "metadata": {},
   "outputs": [],
   "source": [
    "returns = prices.apply(to_log_returns, axis = 0)"
   ]
  },
  {
   "cell_type": "code",
   "execution_count": 33,
   "metadata": {},
   "outputs": [
    {
     "data": {
      "text/html": [
       "<div>\n",
       "<style scoped>\n",
       "    .dataframe tbody tr th:only-of-type {\n",
       "        vertical-align: middle;\n",
       "    }\n",
       "\n",
       "    .dataframe tbody tr th {\n",
       "        vertical-align: top;\n",
       "    }\n",
       "\n",
       "    .dataframe thead th {\n",
       "        text-align: right;\n",
       "    }\n",
       "</style>\n",
       "<table border=\"1\" class=\"dataframe\">\n",
       "  <thead>\n",
       "    <tr style=\"text-align: right;\">\n",
       "      <th></th>\n",
       "      <th>FTSE</th>\n",
       "      <th>DAX</th>\n",
       "      <th>SP500</th>\n",
       "    </tr>\n",
       "    <tr>\n",
       "      <th>Date</th>\n",
       "      <th></th>\n",
       "      <th></th>\n",
       "      <th></th>\n",
       "    </tr>\n",
       "  </thead>\n",
       "  <tbody>\n",
       "    <tr>\n",
       "      <th>1987-01-02</th>\n",
       "      <td>NaN</td>\n",
       "      <td>NaN</td>\n",
       "      <td>NaN</td>\n",
       "    </tr>\n",
       "    <tr>\n",
       "      <th>1987-01-05</th>\n",
       "      <td>-0.000655</td>\n",
       "      <td>NaN</td>\n",
       "      <td>0.023024</td>\n",
       "    </tr>\n",
       "    <tr>\n",
       "      <th>1987-01-06</th>\n",
       "      <td>0.006349</td>\n",
       "      <td>NaN</td>\n",
       "      <td>0.002337</td>\n",
       "    </tr>\n",
       "    <tr>\n",
       "      <th>1987-01-07</th>\n",
       "      <td>0.018460</td>\n",
       "      <td>NaN</td>\n",
       "      <td>0.010037</td>\n",
       "    </tr>\n",
       "    <tr>\n",
       "      <th>1987-01-08</th>\n",
       "      <td>0.006309</td>\n",
       "      <td>NaN</td>\n",
       "      <td>0.007608</td>\n",
       "    </tr>\n",
       "    <tr>\n",
       "      <th>...</th>\n",
       "      <td>...</td>\n",
       "      <td>...</td>\n",
       "      <td>...</td>\n",
       "    </tr>\n",
       "    <tr>\n",
       "      <th>2022-12-23</th>\n",
       "      <td>0.000495</td>\n",
       "      <td>0.001929</td>\n",
       "      <td>0.005851</td>\n",
       "    </tr>\n",
       "    <tr>\n",
       "      <th>2022-12-27</th>\n",
       "      <td>NaN</td>\n",
       "      <td>0.003878</td>\n",
       "      <td>-0.004058</td>\n",
       "    </tr>\n",
       "    <tr>\n",
       "      <th>2022-12-28</th>\n",
       "      <td>NaN</td>\n",
       "      <td>-0.004978</td>\n",
       "      <td>-0.012093</td>\n",
       "    </tr>\n",
       "    <tr>\n",
       "      <th>2022-12-29</th>\n",
       "      <td>0.002065</td>\n",
       "      <td>0.010438</td>\n",
       "      <td>0.017311</td>\n",
       "    </tr>\n",
       "    <tr>\n",
       "      <th>2022-12-30</th>\n",
       "      <td>-0.008153</td>\n",
       "      <td>-0.010583</td>\n",
       "      <td>-0.002544</td>\n",
       "    </tr>\n",
       "  </tbody>\n",
       "</table>\n",
       "<p>9294 rows × 3 columns</p>\n",
       "</div>"
      ],
      "text/plain": [
       "                FTSE       DAX     SP500\n",
       "Date                                    \n",
       "1987-01-02       NaN       NaN       NaN\n",
       "1987-01-05 -0.000655       NaN  0.023024\n",
       "1987-01-06  0.006349       NaN  0.002337\n",
       "1987-01-07  0.018460       NaN  0.010037\n",
       "1987-01-08  0.006309       NaN  0.007608\n",
       "...              ...       ...       ...\n",
       "2022-12-23  0.000495  0.001929  0.005851\n",
       "2022-12-27       NaN  0.003878 -0.004058\n",
       "2022-12-28       NaN -0.004978 -0.012093\n",
       "2022-12-29  0.002065  0.010438  0.017311\n",
       "2022-12-30 -0.008153 -0.010583 -0.002544\n",
       "\n",
       "[9294 rows x 3 columns]"
      ]
     },
     "execution_count": 33,
     "metadata": {},
     "output_type": "execute_result"
    }
   ],
   "source": [
    "returns"
   ]
  },
  {
   "cell_type": "code",
   "execution_count": 37,
   "metadata": {},
   "outputs": [
    {
     "data": {
      "image/png": "[encoded data removed]",
      "text/plain": [
       "<Figure size 800x600 with 1 Axes>"
      ]
     },
     "metadata": {},
     "output_type": "display_data"
    }
   ],
   "source": [
    "plot_time_series(returns, \"SP500\", ylab=\"Log-returns\", title= \"Log-returns of the S&P 500\")"
   ]
  },
  {
   "attachments": {},
   "cell_type": "markdown",
   "metadata": {},
   "source": [
    "### 3. Present your empirical analysis done on these later data sets in two tables, one for the basic statistics containing: \n",
    "1. Descriptive statistics (number of observations, $\\mu$, $\\sigma$, skewness, kurtosis) \n",
    "2. Rank statistics (Maximum, Median, Minimum)"
   ]
  },
  {
   "cell_type": "code",
   "execution_count": 93,
   "metadata": {},
   "outputs": [],
   "source": [
    "def compute_stats(df):\n",
    "    moment_functions = [\"count\", \"mean\", \"std\", \"skew\", \"kurt\", \"min\", \"median\", \"max\"]\n",
    "    return df.agg(moment_functions)"
   ]
  },
  {
   "cell_type": "code",
   "execution_count": 94,
   "metadata": {},
   "outputs": [
    {
     "data": {
      "text/html": [
       "<div>\n",
       "<style scoped>\n",
       "    .dataframe tbody tr th:only-of-type {\n",
       "        vertical-align: middle;\n",
       "    }\n",
       "\n",
       "    .dataframe tbody tr th {\n",
       "        vertical-align: top;\n",
       "    }\n",
       "\n",
       "    .dataframe thead th {\n",
       "        text-align: right;\n",
       "    }\n",
       "</style>\n",
       "<table border=\"1\" class=\"dataframe\">\n",
       "  <thead>\n",
       "    <tr style=\"text-align: right;\">\n",
       "      <th></th>\n",
       "      <th>FTSE</th>\n",
       "      <th>DAX</th>\n",
       "      <th>SP500</th>\n",
       "    </tr>\n",
       "  </thead>\n",
       "  <tbody>\n",
       "    <tr>\n",
       "      <th>count</th>\n",
       "      <td>8899.000000</td>\n",
       "      <td>8668.000000</td>\n",
       "      <td>8855.000000</td>\n",
       "    </tr>\n",
       "    <tr>\n",
       "      <th>mean</th>\n",
       "      <td>0.000135</td>\n",
       "      <td>0.000238</td>\n",
       "      <td>0.000311</td>\n",
       "    </tr>\n",
       "    <tr>\n",
       "      <th>std</th>\n",
       "      <td>0.011145</td>\n",
       "      <td>0.013956</td>\n",
       "      <td>0.011799</td>\n",
       "    </tr>\n",
       "    <tr>\n",
       "      <th>skew</th>\n",
       "      <td>-0.570827</td>\n",
       "      <td>-0.295273</td>\n",
       "      <td>-1.208194</td>\n",
       "    </tr>\n",
       "    <tr>\n",
       "      <th>kurt</th>\n",
       "      <td>10.467729</td>\n",
       "      <td>6.780182</td>\n",
       "      <td>25.841746</td>\n",
       "    </tr>\n",
       "    <tr>\n",
       "      <th>min</th>\n",
       "      <td>-0.130286</td>\n",
       "      <td>-0.140912</td>\n",
       "      <td>-0.228997</td>\n",
       "    </tr>\n",
       "    <tr>\n",
       "      <th>median</th>\n",
       "      <td>0.000500</td>\n",
       "      <td>0.000736</td>\n",
       "      <td>0.000607</td>\n",
       "    </tr>\n",
       "    <tr>\n",
       "      <th>max</th>\n",
       "      <td>0.093842</td>\n",
       "      <td>0.107975</td>\n",
       "      <td>0.109572</td>\n",
       "    </tr>\n",
       "  </tbody>\n",
       "</table>\n",
       "</div>"
      ],
      "text/plain": [
       "               FTSE          DAX        SP500\n",
       "count   8899.000000  8668.000000  8855.000000\n",
       "mean       0.000135     0.000238     0.000311\n",
       "std        0.011145     0.013956     0.011799\n",
       "skew      -0.570827    -0.295273    -1.208194\n",
       "kurt      10.467729     6.780182    25.841746\n",
       "min       -0.130286    -0.140912    -0.228997\n",
       "median     0.000500     0.000736     0.000607\n",
       "max        0.093842     0.107975     0.109572"
      ]
     },
     "execution_count": 94,
     "metadata": {},
     "output_type": "execute_result"
    }
   ],
   "source": [
    "basic_stats = compute_stats(returns)\n",
    "basic_stats"
   ]
  },
  {
   "cell_type": "code",
   "execution_count": 117,
   "metadata": {},
   "outputs": [
    {
     "data": {
      "text/html": [
       "<div>\n",
       "<style scoped>\n",
       "    .dataframe tbody tr th:only-of-type {\n",
       "        vertical-align: middle;\n",
       "    }\n",
       "\n",
       "    .dataframe tbody tr th {\n",
       "        vertical-align: top;\n",
       "    }\n",
       "\n",
       "    .dataframe thead th {\n",
       "        text-align: right;\n",
       "    }\n",
       "</style>\n",
       "<table border=\"1\" class=\"dataframe\">\n",
       "  <thead>\n",
       "    <tr style=\"text-align: right;\">\n",
       "      <th></th>\n",
       "      <th>FTSE</th>\n",
       "      <th>DAX</th>\n",
       "      <th>SP500</th>\n",
       "    </tr>\n",
       "  </thead>\n",
       "  <tbody>\n",
       "    <tr>\n",
       "      <th>VAR_empirical</th>\n",
       "      <td>0.037493</td>\n",
       "      <td>0.050432</td>\n",
       "      <td>0.040792</td>\n",
       "    </tr>\n",
       "    <tr>\n",
       "      <th>VAR_gaussian</th>\n",
       "      <td>0.028842</td>\n",
       "      <td>0.036186</td>\n",
       "      <td>0.030703</td>\n",
       "    </tr>\n",
       "    <tr>\n",
       "      <th>tVAR_empirical</th>\n",
       "      <td>0.044349</td>\n",
       "      <td>0.054378</td>\n",
       "      <td>0.050077</td>\n",
       "    </tr>\n",
       "    <tr>\n",
       "      <th>tVAR_gaussian</th>\n",
       "      <td>0.029839</td>\n",
       "      <td>0.037434</td>\n",
       "      <td>0.031758</td>\n",
       "    </tr>\n",
       "  </tbody>\n",
       "</table>\n",
       "</div>"
      ],
      "text/plain": [
       "                    FTSE       DAX     SP500\n",
       "VAR_empirical   0.037493  0.050432  0.040792\n",
       "VAR_gaussian    0.028842  0.036186  0.030703\n",
       "tVAR_empirical  0.044349  0.054378  0.050077\n",
       "tVAR_gaussian   0.029839  0.037434  0.031758"
      ]
     },
     "execution_count": 117,
     "metadata": {},
     "output_type": "execute_result"
    }
   ],
   "source": [
    "alpha_var = 0.995\n",
    "alpha_tvar = 0.99\n",
    "# Define losses as negative returns\n",
    "losses = -returns\n",
    "# Get VAR at 99.5%\n",
    "VAR = pd.Series(np.quantile(losses.dropna(), q = alpha_var, axis = 0), index = losses.columns)\n",
    "# Get tVAR at 99%\n",
    "tVAR = losses[losses > np.quantile(losses.dropna(), q = alpha_tvar, axis = 0)].mean()\n",
    "# Get VAR and tVAR using gaussian model\n",
    "means = basic_stats.loc[\"mean\", :]\n",
    "stds = basic_stats.loc[\"std\", :]\n",
    "VAR_gaussian = stds*norm.ppf(alpha_var) + means\n",
    "tVAR_gaussian = stds*(norm.pdf(norm.ppf(alpha_tvar)))/(1-alpha_tvar) + means\n",
    "# Combine into one dataframe\n",
    "risk_measures = pd.DataFrame([VAR, VAR_gaussian, tVAR, tVAR_gaussian], index = [\"VAR_empirical\", \"VAR_gaussian\", \"tVAR_empirical\", \"tVAR_gaussian\"])\n",
    "risk_measures"
   ]
  }
 ],
 "metadata": {
  "kernelspec": {
   "display_name": "FE",
   "language": "python",
   "name": "python3"
  },
  "language_info": {
   "codemirror_mode": {
    "name": "ipython",
    "version": 3
   },
   "file_extension": ".py",
   "mimetype": "text/x-python",
   "name": "python",
   "nbconvert_exporter": "python",
   "pygments_lexer": "ipython3",
   "version": "3.11.3"
  },
  "orig_nbformat": 4,
  "vscode": {
   "interpreter": {
    "hash": "38c70ad46c1577e4733ce5c34a79d239ccce1fd9d75b0ff917ee6359392b3147"
   }
  }
 },
 "nbformat": 4,
 "nbformat_minor": 2
}
